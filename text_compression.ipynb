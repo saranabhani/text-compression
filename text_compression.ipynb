{
  "cells": [
    {
      "cell_type": "code",
      "execution_count": null,
      "metadata": {
        "id": "W75zoqZhb3zA"
      },
      "outputs": [],
      "source": [
        "%matplotlib inline\n",
        "\n",
        "import collections\n",
        "import random\n",
        "import matplotlib.pyplot as plt\n",
        "import nltk\n",
        "import numpy as np\n",
        "import torch\n",
        "import torch.nn.functional as F\n",
        "from tqdm import tqdm\n",
        "\n",
        "device = 'cuda' if torch.cuda.is_available() else 'cpu'"
      ]
    },
    {
      "cell_type": "markdown",
      "source": [
        "# Mount Data Folder"
      ],
      "metadata": {
        "id": "mcEIucb9dFIc"
      }
    },
    {
      "cell_type": "code",
      "source": [
        "from google.colab import drive\n",
        "drive.mount('/content/drive')"
      ],
      "metadata": {
        "colab": {
          "base_uri": "https://localhost:8080/"
        },
        "id": "n2p_YM9IdNqP",
        "outputId": "c606925c-bbb7-49d9-ceb2-78f9c3939ce0"
      },
      "execution_count": null,
      "outputs": [
        {
          "output_type": "stream",
          "name": "stdout",
          "text": [
            "Mounted at /content/drive\n"
          ]
        }
      ]
    },
    {
      "cell_type": "code",
      "source": [
        "data_path = '/content/drive/MyDrive/DL for NLP/text_compression-20231023/'"
      ],
      "metadata": {
        "id": "7kQfNYzFdD84"
      },
      "execution_count": null,
      "outputs": []
    },
    {
      "cell_type": "markdown",
      "metadata": {
        "id": "niLvsXI1b3zB"
      },
      "source": [
        "# Text compression"
      ]
    },
    {
      "cell_type": "markdown",
      "source": [
        "## 1) Data processing"
      ],
      "metadata": {
        "id": "DwJGHzZ15oJq"
      }
    },
    {
      "cell_type": "markdown",
      "metadata": {
        "id": "u6CbrHR5b3zB"
      },
      "source": [
        "1.1) Load the train set and dev set text files into a list of sentences where each sentence is tokenised (by splitting by space)."
      ]
    },
    {
      "cell_type": "code",
      "execution_count": null,
      "metadata": {
        "id": "ZTYVyCnvb3zC"
      },
      "outputs": [],
      "source": [
        "train_file = open(f'{data_path}train.txt')\n",
        "dev_file = open(f'{data_path}dev.txt')\n",
        "train_txt = train_file.read()\n",
        "dev_txt = dev_file.read()\n",
        "train_set = [[token for token in sentence.split()] for sentence in train_txt.split('\\n')]\n",
        "dev_set = [[token for token in sentence.split()] for sentence in dev_txt.split('\\n')]"
      ]
    },
    {
      "cell_type": "code",
      "source": [
        "print(f'Size of training dataset:{len(train_set)}')\n",
        "print(f'Size of dev dataset:{len(dev_set)}')"
      ],
      "metadata": {
        "colab": {
          "base_uri": "https://localhost:8080/"
        },
        "id": "Kg29lEFulwRZ",
        "outputId": "df9fb646-0f33-4073-a1f3-d4d3379aebf2"
      },
      "execution_count": null,
      "outputs": [
        {
          "output_type": "stream",
          "name": "stdout",
          "text": [
            "Size of training dataset:10268\n",
            "Size of dev dataset:1712\n"
          ]
        }
      ]
    },
    {
      "cell_type": "markdown",
      "metadata": {
        "id": "QGvqDO83b3zC"
      },
      "source": [
        "1.2) Extract a vocabulary consisting of the tokens that occur at least 3 times in the train set and output the size of the vocabulary.\n",
        "Also output the most frequent vocabulary token in the train set.\n",
        "Include the edge token, unknown token, and pad token in the vocabulary."
      ]
    },
    {
      "cell_type": "code",
      "execution_count": null,
      "metadata": {
        "id": "28odXT6Ub3zC",
        "colab": {
          "base_uri": "https://localhost:8080/"
        },
        "outputId": "40f9a9e8-295d-4a89-818b-206ba806c24c"
      },
      "outputs": [
        {
          "output_type": "stream",
          "name": "stdout",
          "text": [
            "Vocabulary size before adding PAD, UNK, EDGE:7871\n",
            "Most frequent vocabulary:the\n",
            "Vocabulary size after adding PAD, UNK, EDGE:7874\n",
            "Most frequent vocabulary:<PAD>\n"
          ]
        }
      ],
      "source": [
        "min_freq = 3\n",
        "frequencies = collections.Counter(token for sen in train_set for token in sen)\n",
        "vocabulary = sorted(frequencies.keys(), key=frequencies.get, reverse=True)\n",
        "while frequencies[vocabulary[-1]] < min_freq:\n",
        "    vocabulary.pop()\n",
        "print(f'Vocabulary size before adding PAD, UNK, EDGE:{len(vocabulary)}')\n",
        "print(f'Most frequent vocabulary:{vocabulary[0]}')\n",
        "\n",
        "vocab = ['<PAD>', '<UNK>', '<EDGE>'] + vocabulary\n",
        "token2index = {token: i for (i, token) in enumerate(vocab)}\n",
        "pad_index = token2index['<PAD>']\n",
        "unk_index = token2index['<UNK>']\n",
        "edge_index = token2index['<EDGE>']\n",
        "print(f'Vocabulary size after adding PAD, UNK, EDGE:{len(vocab)}')\n",
        "print(f'Most frequent vocabulary:{vocab[0]}')"
      ]
    },
    {
      "cell_type": "markdown",
      "metadata": {
        "id": "Ml95MRYWb3zC"
      },
      "source": [
        "1.3) Process the loaded token sequences for the train set and dev set using the vocabulary created above in a way that is suitable for a language model, making use of edge tokens, unknown tokens, and pad tokens."
      ]
    },
    {
      "cell_type": "code",
      "execution_count": null,
      "metadata": {
        "id": "QnJVIC1Xb3zC",
        "colab": {
          "base_uri": "https://localhost:8080/"
        },
        "outputId": "9c2ffbfa-b534-4005-fae0-5ca723ee0858"
      },
      "outputs": [
        {
          "output_type": "stream",
          "name": "stdout",
          "text": [
            "train_x_indexed:\n",
            "tensor([[  2, 707,   1,  ...,   0,   0,   0],\n",
            "        [  2,  25, 165,  ...,   0,   0,   0],\n",
            "        [  2,   3, 897,  ...,   0,   0,   0],\n",
            "        ...,\n",
            "        [  2,  52,  18,  ...,   0,   0,   0],\n",
            "        [  2, 126,   4,  ...,   0,   0,   0],\n",
            "        [  2,   1,  42,  ...,   0,   0,   0]], device='cuda:0')\n",
            "train_y_indexed:\n",
            "tensor([[ 707,    1, 5921,  ...,    0,    0,    0],\n",
            "        [  25,  165,   37,  ...,    0,    0,    0],\n",
            "        [   3,  897,    6,  ...,    0,    0,    0],\n",
            "        ...,\n",
            "        [  52,   18,  105,  ...,    0,    0,    0],\n",
            "        [ 126,    4,    3,  ...,    0,    0,    0],\n",
            "        [   1,   42,  190,  ...,    0,    0,    0]], device='cuda:0')\n",
            "dev_x_indexed:\n",
            "tensor([[   2, 1700, 4131,  ...,    0,    0,    0],\n",
            "        [   2,   25, 1361,  ...,    0,    0,    0],\n",
            "        [   2,   96,  977,  ...,    0,    0,    0],\n",
            "        ...,\n",
            "        [   2,  155,   37,  ...,    0,    0,    0],\n",
            "        [   2,  130,   57,  ...,    0,    0,    0],\n",
            "        [   2,   56, 1191,  ...,    0,    0,    0]], device='cuda:0')\n",
            "dev_y_indexed:\n",
            "tensor([[1700, 4131,    3,  ...,    0,    0,    0],\n",
            "        [  25, 1361,    7,  ...,    0,    0,    0],\n",
            "        [  96,  977,  884,  ...,    0,    0,    0],\n",
            "        ...,\n",
            "        [ 155,   37,  407,  ...,    0,    0,    0],\n",
            "        [ 130,   57,   60,  ...,    0,    0,    0],\n",
            "        [  56, 1191, 3800,  ...,    0,    0,    0]], device='cuda:0')\n"
          ]
        }
      ],
      "source": [
        "max_len = max(max(len(text) for text in train_set), max(len(text) for text in dev_set)) + 1\n",
        "train_indexed = np.full((len(train_set), max_len), pad_index, np.int64)\n",
        "for i in range(len(train_set)):\n",
        "  train_indexed[i, 0] = edge_index\n",
        "  for j in range(len(train_set[i])):\n",
        "      train_indexed[i, j+1] = token2index.get(train_set[i][j], unk_index)\n",
        "  train_indexed[i, len(train_set[i])] = edge_index\n",
        "train_indexed = torch.tensor(train_indexed, device=device)\n",
        "print('train_x_indexed:')\n",
        "print(train_indexed)\n",
        "\n",
        "\n",
        "train_y_indexed = np.full((len(train_set), max_len), pad_index, np.int64)\n",
        "for i in range(len(train_set)):\n",
        "    for j in range(len(train_set[i])):\n",
        "        train_y_indexed[i, j] = token2index.get(train_set[i][j], unk_index)\n",
        "    train_y_indexed[i, len(train_set[i])] = edge_index\n",
        "train_y_indexed = torch.tensor(train_y_indexed, device=device)\n",
        "print('train_y_indexed:')\n",
        "print(train_y_indexed)\n",
        "\n",
        "dev_indexed = np.full((len(dev_set), max_len), pad_index, np.int64)\n",
        "for i in range(len(dev_set)):\n",
        "  dev_indexed[i, 0] = edge_index\n",
        "  for j in range(len(dev_set[i])):\n",
        "    dev_indexed[i, j+1] = token2index.get(dev_set[i][j], unk_index)\n",
        "  dev_indexed[i, len(dev_set[i])] = edge_index\n",
        "dev_indexed = torch.tensor(dev_indexed, device=device)\n",
        "print('dev_x_indexed:')\n",
        "print(dev_indexed)\n",
        "\n",
        "dev_y_indexed = np.full((len(dev_set), max_len), pad_index, np.int64)\n",
        "for i in range(len(dev_set)):\n",
        "    for j in range(len(dev_set[i])):\n",
        "        dev_y_indexed[i, j] = token2index.get(dev_set[i][j], unk_index)\n",
        "    dev_y_indexed[i, len(dev_set[i])] = edge_index\n",
        "dev_y_indexed = torch.tensor(dev_y_indexed, device=device)\n",
        "print('dev_y_indexed:')\n",
        "print(dev_y_indexed)"
      ]
    },
    {
      "cell_type": "code",
      "source": [
        "train_indexed = train_indexed.to(device)\n",
        "train_y_indexed = train_y_indexed.to(device)\n",
        "dev_indexed = dev_indexed.to(device)\n",
        "dev_y_indexed = dev_y_indexed.to(device)"
      ],
      "metadata": {
        "id": "ghi-rQdxVYf9"
      },
      "execution_count": null,
      "outputs": []
    },
    {
      "cell_type": "markdown",
      "metadata": {
        "id": "kuBKY_Asb3zC"
      },
      "source": [
        "1.4) Finally, load the test set text file as single string and keep it in a variable."
      ]
    },
    {
      "cell_type": "code",
      "source": [
        "with open(f'{data_path}test.txt', 'r') as f:\n",
        "  test_text = f.read()"
      ],
      "metadata": {
        "id": "6UJZLkUvtxFF"
      },
      "execution_count": null,
      "outputs": []
    },
    {
      "cell_type": "markdown",
      "metadata": {
        "id": "MSPtVeijb3zC"
      },
      "source": [
        "## 2) Evaluation tools\n",
        "\n",
        "We're going to need a function that evaluates our language models as well as a way to test this function before we make the language model.\n",
        "To test the evaluation function, you need to make a mock model which can be used exactly like a language model but that works with some simple rules.\n",
        "This mock model will then be used to check the evaluation, compression, and decompression functions before we've developed the language model.\n",
        "\n",
        "A language model function assumes the following signature:\n",
        "\n",
        "* A parameter `x_indexes` being a tensor that gives the model's input token indexes of a batch of sentences, starting with the edge token.\n",
        "    The tensor is of type `int64` with shape `(batch size, time steps)`.\n",
        "* Returns a tensor of logits predicting which vocabulary token can be the next token after each token in `x_indexes`.\n",
        "    The tensor is of type `float32` with shape `(batch size, time steps, vocab size)`."
      ]
    },
    {
      "cell_type": "markdown",
      "metadata": {
        "id": "av30cII5b3zC"
      },
      "source": [
        "2.1) Develop a mock language model.\n",
        "This language model will be a module that predicts the next token after every token using these rules:\n",
        "\n",
        "* If the actual previous token (not the predicted one) was 'the' then predict that the current token is 'dog'.\n",
        "* Otherwise, predict that the current token is 'the'.\n",
        "\n",
        "Remember that it is logits that will be returned by the forward function, not probabilities.\n",
        "**Give the token being predicted a logit of 2 and all other tokens a logit of 0.**"
      ]
    },
    {
      "cell_type": "code",
      "execution_count": null,
      "metadata": {
        "id": "F92jilXhb3zC"
      },
      "outputs": [],
      "source": [
        "class MockModel(torch.nn.Module):\n",
        "    def __init__(self, vocab_size, index_of_edge, index_of_the, index_of_dog):\n",
        "      super().__init__()\n",
        "      self.vocab_size = vocab_size\n",
        "      self.ioe = index_of_edge\n",
        "      self.iot = index_of_the\n",
        "      self.iod = index_of_dog\n",
        "\n",
        "    def forward(self, x_indexes):\n",
        "        logits = torch.zeros((x_indexes.shape[0], x_indexes.shape[1], vocab_size)) # initializing logits matrix\n",
        "        for i, sample in enumerate(x_indexes):\n",
        "            for j, token in enumerate(sample):\n",
        "                if token == self.iot:\n",
        "                    logits[i, j, self.iod] = 2  # assign a logit of 2 for the index of \"dog\" if previous token is \"the\"\n",
        "                else:\n",
        "                    logits[i, j, self.iot] = 2  # assign a logit of 2 for the index of \"the\" if previous token is not \"the\"\n",
        "        return logits"
      ]
    },
    {
      "cell_type": "code",
      "execution_count": null,
      "metadata": {
        "id": "i09k4k88b3zC",
        "colab": {
          "base_uri": "https://localhost:8080/"
        },
        "outputId": "fe898562-cc8a-49d1-ea25-b3e8717e2cd9"
      },
      "outputs": [
        {
          "output_type": "stream",
          "name": "stdout",
          "text": [
            "Correct!\n"
          ]
        }
      ],
      "source": [
        "vocab_size = len(vocab) # You can change this to whatever code gives you the vocabulary size.\n",
        "index_of_edge = token2index['<EDGE>'] # You can change this to whatever code gives you the index of the edge token.\n",
        "index_of_the = token2index['the'] # You can change this to whatever code gives you the index of the token 'the'.\n",
        "index_of_dog = token2index['dog'] # You can change this to whatever code gives you the index of the token 'dog'.\n",
        "mock_model = MockModel(vocab_size, index_of_edge, index_of_the, index_of_dog) # You can change these parameters as you wish.\n",
        "mock_model = mock_model.to(device)\n",
        "\n",
        "mock_x_indexes = torch.tensor([\n",
        "    [index_of_edge, index_of_dog, index_of_the, index_of_the],\n",
        "    [index_of_edge, index_of_the, index_of_dog, index_of_dog],\n",
        "], dtype=torch.int64, device=device)\n",
        "\n",
        "mock_expected_logits = torch.zeros((2, 4, vocab_size), dtype=torch.float32, device=device)\n",
        "mock_expected_logits[0, 0, index_of_the] = 2\n",
        "mock_expected_logits[0, 1, index_of_the] = 2\n",
        "mock_expected_logits[0, 2, index_of_dog] = 2\n",
        "mock_expected_logits[0, 3, index_of_dog] = 2\n",
        "mock_expected_logits[1, 0, index_of_the] = 2\n",
        "mock_expected_logits[1, 1, index_of_dog] = 2\n",
        "mock_expected_logits[1, 2, index_of_the] = 2\n",
        "mock_expected_logits[1, 3, index_of_the] = 2\n",
        "mock_expected_logits = mock_expected_logits.to(device)\n",
        "\n",
        "mock_logits = mock_model(mock_x_indexes)\n",
        "mock_logits = mock_logits.to(device)\n",
        "assert mock_expected_logits[1, 2, index_of_the] == 2\n",
        "assert mock_expected_logits[1, 3, index_of_the] == 2\n",
        "assert mock_logits.shape == mock_expected_logits.shape, 'Output shape is invalid.'\n",
        "assert mock_logits.dtype == mock_expected_logits.dtype, 'Output data type is invalid.'\n",
        "assert np.unique(mock_logits.detach().cpu().numpy()).tolist() == [0.0, 2.0], 'Output has values other than 0 and 2'\n",
        "assert (mock_logits == mock_expected_logits).all(), 'Output has the the wrong logits.'\n",
        "print('Correct!')"
      ]
    },
    {
      "cell_type": "markdown",
      "metadata": {
        "id": "mVI_x0lyb3zC"
      },
      "source": [
        "2.2) Next, we need a function that measures the perplexity of a language model on the dev set."
      ]
    },
    {
      "cell_type": "code",
      "source": [
        "def calculate_perplexity(model, data_x, data_y):\n",
        "  with torch.no_grad():\n",
        "    pad_mask = data_x == pad_index\n",
        "    pad_mask = pad_mask.to(device)\n",
        "    logits = model(data_x)\n",
        "    logits = logits.to(device)\n",
        "    train_token_xes = torch.nn.functional.cross_entropy(logits.transpose(1, 2), data_y, reduction='none')\n",
        "    train_token_xes = train_token_xes.masked_fill(pad_mask, 0.0)\n",
        "    train_xe_avg = train_token_xes.sum()/(~pad_mask).sum()\n",
        "    pplx = torch.exp(train_xe_avg).cpu().tolist()\n",
        "  return pplx"
      ],
      "metadata": {
        "id": "Vv4DbKIcVTCK"
      },
      "execution_count": null,
      "outputs": []
    },
    {
      "cell_type": "code",
      "source": [
        "pplx = calculate_perplexity(mock_model, dev_indexed, dev_y_indexed)\n",
        "print('Perplexity:', pplx)"
      ],
      "metadata": {
        "colab": {
          "base_uri": "https://localhost:8080/"
        },
        "id": "-a42kEXneArl",
        "outputId": "f513f346-a8a3-4e76-8ea0-a2b26d58cbcd"
      },
      "execution_count": null,
      "outputs": [
        {
          "output_type": "stream",
          "name": "stdout",
          "text": [
            "Perplexity: 7062.21875\n"
          ]
        }
      ]
    },
    {
      "cell_type": "markdown",
      "metadata": {
        "id": "QcQHL0_3b3zC"
      },
      "source": [
        "## 3) Compression and decompression\n",
        "We will now write the code that makes the actual compression and decompression of a text.\n",
        "\n",
        "The compression algorithm will work as follows:\n",
        "\n",
        "* You have a string of text to compress called `text` and a language model called `model`.\n",
        "* Extract a list of tokens from `text` called `tokens` and a list of corresponding token indexes called `indexes`.\n",
        "* Use `model` on `indexes` to produce `predicted`, a list of predicted next tokens for every index in `indexes`.\n",
        "    A predicted next token is just the most probable token according to `model`.\n",
        "* If a token in `predicted` corresponds to a token in `tokens`, then that token can be predicted by the model from its previous tokens.\n",
        "    In this case, we don't need to have the token written down as it can be predicted, so we replace it in `tokens` with the single letter 'X' to say that a token should be predicted here.\n",
        "    If 'X' is shorter than the replaced token, then the text will become shorter.\n",
        "    Since all the text in our data sets is in lowercase, there will never be an 'X' in a sentence, so we can safely use it as a flag.\n",
        "* If the token isn't correctly predicted then we leave the token in the text as-is.\n",
        "* After all predictable tokens in `tokens` have been replaced with an 'X', return `tokens` as a space separated string.\n",
        "\n",
        "The decompression algorithm will work as follows:\n",
        "\n",
        "* You have a string of compressed text called `text` and a language model called `model`.\n",
        "* Extract a list of tokens from `text` called `tokens`.\n",
        "* Go through the tokens in `tokens` from the front and stop at the first 'X'.\n",
        "* Convert all the tokens before the 'X' to token indexes called `indexes`.\n",
        "* Use `model` to predict what the most probable token at the end of `indexes` would be.\n",
        "* Replace the 'X' in `tokens` with this most probable token.\n",
        "* Repeat this for every 'X'.\n",
        "* After all 'X' are replaced in `tokens`, return `tokens` as a space separated string."
      ]
    },
    {
      "cell_type": "markdown",
      "metadata": {
        "id": "COyN8fwXb3zD"
      },
      "source": [
        "3.1) Starting with the compression function.\n",
        "The input text will consist of sentences separated by new lines and space separated tokens (just like the raw data sets).\n",
        "The function should return a single string with each line in the input text being compressed.\n",
        "Remember that we want a compressed text to be decompressed back into the exact original text, which means that all out-of-vocabulary tokens must be left as-is (**there must not be any unknown tokens in the output**).\n",
        "\n",
        "Compressing this sentence using the mock model:\n",
        "\n",
        "`the dog bit the cat sensually .`\n",
        "\n",
        "should be compressed into:\n",
        "\n",
        "`X X bit X cat sensually .`\n"
      ]
    },
    {
      "cell_type": "code",
      "source": [
        "def compress_text(text, model):\n",
        "  compressed_text = []\n",
        "  sentences = ['<EDGE> ' + sentence for sentence in text.split('\\n')]\n",
        "  sentences_tokens = [sentence.split() for sentence in sentences]\n",
        "  max_len = max([len(sen) for sen in sentences_tokens])\n",
        "  tokens_text = [[token2index.get(token, unk_index) for token in tokens]+ [pad_index for i in range(max_len - len(tokens))] for tokens in sentences_tokens]\n",
        "  indexes = torch.tensor(tokens_text).to(device)\n",
        "  logits = model(indexes)\n",
        "  logits = logits.to(device)\n",
        "  predicted_indexes = logits.argmax(2)\n",
        "  vocab_keys = list(token2index.keys())\n",
        "  compressed_text = [['X' if vocab_keys[predicted] == token else token for token, predicted in zip(tokens[1:], pred[0:-1])] for tokens,pred in zip(sentences_tokens, predicted_indexes)]\n",
        "  compressed_text = [' '.join(tokens) for tokens in compressed_text]\n",
        "  return '\\n'.join(compressed_text)"
      ],
      "metadata": {
        "id": "RSUZg5xNdJfk"
      },
      "execution_count": null,
      "outputs": []
    },
    {
      "cell_type": "code",
      "source": [
        "decomp_text = \"the dog bit the cat sensually .\"\n",
        "compressed = compress_text(decomp_text, mock_model)\n",
        "print(compressed)"
      ],
      "metadata": {
        "colab": {
          "base_uri": "https://localhost:8080/"
        },
        "id": "_l5uRmuXw_sf",
        "outputId": "7d254d9c-5a08-447f-cdeb-925758af44a0"
      },
      "execution_count": null,
      "outputs": [
        {
          "output_type": "stream",
          "name": "stdout",
          "text": [
            "X X bit X cat sensually .\n"
          ]
        }
      ]
    },
    {
      "cell_type": "markdown",
      "metadata": {
        "id": "sAbwwiwab3zD"
      },
      "source": [
        "3.2) The decompression function.\n",
        "Again, The input text will consist of sentences separated by new lines and space separated tokens, only this time, some of those tokens will be an 'X'.\n",
        "The function should return a single big string where each line in the compressed text is decompressed back into the original input line.\n",
        "\n",
        "Decompressing the compressed text:\n",
        "\n",
        "`X X bit X cat sensually .`\n",
        "\n",
        "which should be decompressed into:\n",
        "\n",
        "`the dog bit the cat sensually .`\n"
      ]
    },
    {
      "cell_type": "code",
      "execution_count": null,
      "metadata": {
        "id": "lI3i4-HUb3zD"
      },
      "outputs": [],
      "source": [
        "def decompress_text(text, model):\n",
        "  decompressed_text = []\n",
        "  sentences = ['<EDGE> ' + sentence for sentence in text.split('\\n')]\n",
        "  sentences_tokens = [sentence.split() for sentence in sentences]\n",
        "  for sentence in sentences_tokens:\n",
        "    for i,j in enumerate(sentence):\n",
        "      if j=='X':\n",
        "        tokens_text = [token2index.get(token, unk_index) for token in sentence[:i]]\n",
        "        indexes = torch.tensor([tokens_text]).to(device)\n",
        "        logits = model(indexes)\n",
        "        logits = logits.to(device)\n",
        "        predicted_index = logits.argmax(2)[0][-1]\n",
        "        vocab_keys = list(token2index.keys())\n",
        "        predicted_token = vocab_keys[predicted_index]\n",
        "        sentence[i] = predicted_token\n",
        "      else:\n",
        "        continue\n",
        "    decompressed_text.append(sentence[1:])\n",
        "  decompressed_text = [' '.join(tokens) for tokens in decompressed_text]\n",
        "  return '\\n'.join(decompressed_text)"
      ]
    },
    {
      "cell_type": "code",
      "source": [
        "comp_text = \"X X bit X cat sensually .\"\n",
        "decompressed = decompress_text(comp_text, mock_model)\n",
        "print(decompressed)"
      ],
      "metadata": {
        "colab": {
          "base_uri": "https://localhost:8080/"
        },
        "id": "KakJ9eR0OVNy",
        "outputId": "029bd30f-3b12-4a03-a768-8aebf88f0f4b"
      },
      "execution_count": null,
      "outputs": [
        {
          "output_type": "stream",
          "name": "stdout",
          "text": [
            "the dog bit the cat sensually .\n"
          ]
        }
      ]
    },
    {
      "cell_type": "markdown",
      "metadata": {
        "id": "PLhwxaYob3zD"
      },
      "source": [
        "3.3) The space saving amount of the mock model on the test set.\n",
        "The space saving amount is calculated as follows:\n",
        "\n",
        "$$\\text{space\\_saving}(t) = 1 - \\frac{|\\text{compress}(t)|}{|t|}$$\n",
        "\n",
        "where $|t|$ is the number of characters in text $t$.\n",
        "\n",
        "This measure tells what fraction of the original size has been shaved off after compression (higher is better)."
      ]
    },
    {
      "cell_type": "code",
      "execution_count": null,
      "metadata": {
        "id": "tirEiaTib3zD"
      },
      "outputs": [],
      "source": [
        "def calculate_space_saved(text, model):\n",
        "  comp_text = compress_text(text, model)\n",
        "  return (1 - (len(comp_text)/len(text)))"
      ]
    },
    {
      "cell_type": "code",
      "source": [
        "print(calculate_space_saved(test_text, mock_model))"
      ],
      "metadata": {
        "colab": {
          "base_uri": "https://localhost:8080/"
        },
        "id": "NuO7m6T_SEBF",
        "outputId": "e57ae898-8f21-4ba3-d048-19f69343dbfa"
      },
      "execution_count": null,
      "outputs": [
        {
          "output_type": "stream",
          "name": "stdout",
          "text": [
            "0.023646158986776245\n"
          ]
        }
      ]
    },
    {
      "cell_type": "markdown",
      "metadata": {
        "id": "BrS1d-Obb3zD"
      },
      "source": [
        "## 4) Making and using a language model\n",
        "\n",
        "Train a language model and use it to compress the test set.\n"
      ]
    },
    {
      "cell_type": "markdown",
      "metadata": {
        "id": "hNcI0SnMb3zD"
      },
      "source": [
        "4.1) Train a neural language model on the train set."
      ]
    },
    {
      "cell_type": "code",
      "source": [
        "def early_stopping(val_perp_history, patience=5):\n",
        "    if len(val_perp_history) < patience:\n",
        "        return False\n",
        "\n",
        "    is_early_stopping = True\n",
        "    for i in range(len(val_perp_history) - patience, len(val_perp_history)):\n",
        "        if val_perp_history[i] <= val_perp_history[i - 1]:\n",
        "            is_early_stopping = False\n",
        "            break\n",
        "\n",
        "    if is_early_stopping:\n",
        "        return True\n",
        "    else:\n",
        "        return False\n"
      ],
      "metadata": {
        "id": "mkJjPOxuoJ3V"
      },
      "execution_count": null,
      "outputs": []
    },
    {
      "cell_type": "code",
      "execution_count": null,
      "metadata": {
        "id": "F8dPRJAEb3zD",
        "colab": {
          "base_uri": "https://localhost:8080/",
          "height": 1000
        },
        "outputId": "cad26f38-9224-496e-d981-aa28843d3359"
      },
      "outputs": [
        {
          "output_type": "stream",
          "name": "stderr",
          "text": [
            "Epoch 1: 100%|██████████| 81/81 [00:07<00:00, 10.80it/s, train_error=6.01]\n"
          ]
        },
        {
          "output_type": "stream",
          "name": "stdout",
          "text": [
            "Epoch 1 - Train Error: 6.0144, Dev Perplexity: 166.1280\n"
          ]
        },
        {
          "output_type": "stream",
          "name": "stderr",
          "text": [
            "Epoch 2: 100%|██████████| 81/81 [00:07<00:00, 10.68it/s, train_error=5.21]\n"
          ]
        },
        {
          "output_type": "stream",
          "name": "stdout",
          "text": [
            "Epoch 2 - Train Error: 5.2147, Dev Perplexity: 130.1882\n"
          ]
        },
        {
          "output_type": "stream",
          "name": "stderr",
          "text": [
            "Epoch 3: 100%|██████████| 81/81 [00:07<00:00, 10.48it/s, train_error=4.98]\n"
          ]
        },
        {
          "output_type": "stream",
          "name": "stdout",
          "text": [
            "Epoch 3 - Train Error: 4.9811, Dev Perplexity: 113.3965\n"
          ]
        },
        {
          "output_type": "stream",
          "name": "stderr",
          "text": [
            "Epoch 4: 100%|██████████| 81/81 [00:07<00:00, 10.49it/s, train_error=4.83]\n"
          ]
        },
        {
          "output_type": "stream",
          "name": "stdout",
          "text": [
            "Epoch 4 - Train Error: 4.8330, Dev Perplexity: 104.4559\n"
          ]
        },
        {
          "output_type": "stream",
          "name": "stderr",
          "text": [
            "Epoch 5: 100%|██████████| 81/81 [00:07<00:00, 10.49it/s, train_error=4.72]\n"
          ]
        },
        {
          "output_type": "stream",
          "name": "stdout",
          "text": [
            "Epoch 5 - Train Error: 4.7192, Dev Perplexity: 98.6806\n"
          ]
        },
        {
          "output_type": "stream",
          "name": "stderr",
          "text": [
            "Epoch 6: 100%|██████████| 81/81 [00:07<00:00, 10.71it/s, train_error=4.62]\n"
          ]
        },
        {
          "output_type": "stream",
          "name": "stdout",
          "text": [
            "Epoch 6 - Train Error: 4.6225, Dev Perplexity: 94.9297\n"
          ]
        },
        {
          "output_type": "stream",
          "name": "stderr",
          "text": [
            "Epoch 7: 100%|██████████| 81/81 [00:07<00:00, 10.73it/s, train_error=4.54]\n"
          ]
        },
        {
          "output_type": "stream",
          "name": "stdout",
          "text": [
            "Epoch 7 - Train Error: 4.5381, Dev Perplexity: 91.8608\n"
          ]
        },
        {
          "output_type": "stream",
          "name": "stderr",
          "text": [
            "Epoch 8: 100%|██████████| 81/81 [00:07<00:00, 10.60it/s, train_error=4.47]\n"
          ]
        },
        {
          "output_type": "stream",
          "name": "stdout",
          "text": [
            "Epoch 8 - Train Error: 4.4650, Dev Perplexity: 89.3920\n"
          ]
        },
        {
          "output_type": "stream",
          "name": "stderr",
          "text": [
            "Epoch 9: 100%|██████████| 81/81 [00:07<00:00, 10.79it/s, train_error=4.39]\n"
          ]
        },
        {
          "output_type": "stream",
          "name": "stdout",
          "text": [
            "Epoch 9 - Train Error: 4.3939, Dev Perplexity: 87.5073\n"
          ]
        },
        {
          "output_type": "stream",
          "name": "stderr",
          "text": [
            "Epoch 10: 100%|██████████| 81/81 [00:07<00:00, 10.88it/s, train_error=4.32]\n"
          ]
        },
        {
          "output_type": "stream",
          "name": "stdout",
          "text": [
            "Epoch 10 - Train Error: 4.3246, Dev Perplexity: 86.0602\n"
          ]
        },
        {
          "output_type": "stream",
          "name": "stderr",
          "text": [
            "Epoch 11: 100%|██████████| 81/81 [00:07<00:00, 10.50it/s, train_error=4.27]\n"
          ]
        },
        {
          "output_type": "stream",
          "name": "stdout",
          "text": [
            "Epoch 11 - Train Error: 4.2698, Dev Perplexity: 84.8349\n"
          ]
        },
        {
          "output_type": "stream",
          "name": "stderr",
          "text": [
            "Epoch 12: 100%|██████████| 81/81 [00:07<00:00, 10.84it/s, train_error=4.21]\n"
          ]
        },
        {
          "output_type": "stream",
          "name": "stdout",
          "text": [
            "Epoch 12 - Train Error: 4.2059, Dev Perplexity: 84.0419\n"
          ]
        },
        {
          "output_type": "stream",
          "name": "stderr",
          "text": [
            "Epoch 13: 100%|██████████| 81/81 [00:07<00:00, 10.59it/s, train_error=4.15]\n"
          ]
        },
        {
          "output_type": "stream",
          "name": "stdout",
          "text": [
            "Epoch 13 - Train Error: 4.1473, Dev Perplexity: 83.5081\n"
          ]
        },
        {
          "output_type": "stream",
          "name": "stderr",
          "text": [
            "Epoch 14: 100%|██████████| 81/81 [00:07<00:00, 10.76it/s, train_error=4.1]\n"
          ]
        },
        {
          "output_type": "stream",
          "name": "stdout",
          "text": [
            "Epoch 14 - Train Error: 4.0967, Dev Perplexity: 82.9117\n"
          ]
        },
        {
          "output_type": "stream",
          "name": "stderr",
          "text": [
            "Epoch 15: 100%|██████████| 81/81 [00:07<00:00, 10.57it/s, train_error=4.04]\n"
          ]
        },
        {
          "output_type": "stream",
          "name": "stdout",
          "text": [
            "Epoch 15 - Train Error: 4.0381, Dev Perplexity: 82.3130\n"
          ]
        },
        {
          "output_type": "stream",
          "name": "stderr",
          "text": [
            "Epoch 16: 100%|██████████| 81/81 [00:07<00:00, 10.74it/s, train_error=3.99]\n"
          ]
        },
        {
          "output_type": "stream",
          "name": "stdout",
          "text": [
            "Epoch 16 - Train Error: 3.9868, Dev Perplexity: 82.1690\n"
          ]
        },
        {
          "output_type": "stream",
          "name": "stderr",
          "text": [
            "Epoch 17: 100%|██████████| 81/81 [00:08<00:00,  9.95it/s, train_error=3.94]\n"
          ]
        },
        {
          "output_type": "stream",
          "name": "stdout",
          "text": [
            "Epoch 17 - Train Error: 3.9357, Dev Perplexity: 82.0825\n"
          ]
        },
        {
          "output_type": "stream",
          "name": "stderr",
          "text": [
            "Epoch 18: 100%|██████████| 81/81 [00:07<00:00, 10.80it/s, train_error=3.89]\n"
          ]
        },
        {
          "output_type": "stream",
          "name": "stdout",
          "text": [
            "Epoch 18 - Train Error: 3.8876, Dev Perplexity: 81.8805\n"
          ]
        },
        {
          "output_type": "stream",
          "name": "stderr",
          "text": [
            "Epoch 19: 100%|██████████| 81/81 [00:07<00:00, 10.69it/s, train_error=3.84]\n"
          ]
        },
        {
          "output_type": "stream",
          "name": "stdout",
          "text": [
            "Epoch 19 - Train Error: 3.8400, Dev Perplexity: 82.0689\n"
          ]
        },
        {
          "output_type": "stream",
          "name": "stderr",
          "text": [
            "Epoch 20: 100%|██████████| 81/81 [00:07<00:00, 10.82it/s, train_error=3.79]\n"
          ]
        },
        {
          "output_type": "stream",
          "name": "stdout",
          "text": [
            "Epoch 20 - Train Error: 3.7935, Dev Perplexity: 82.0560\n"
          ]
        },
        {
          "output_type": "stream",
          "name": "stderr",
          "text": [
            "Epoch 21: 100%|██████████| 81/81 [00:07<00:00, 10.73it/s, train_error=3.75]\n"
          ]
        },
        {
          "output_type": "stream",
          "name": "stdout",
          "text": [
            "Epoch 21 - Train Error: 3.7513, Dev Perplexity: 82.0526\n"
          ]
        },
        {
          "output_type": "stream",
          "name": "stderr",
          "text": [
            "Epoch 22: 100%|██████████| 81/81 [00:07<00:00, 10.75it/s, train_error=3.7]\n"
          ]
        },
        {
          "output_type": "stream",
          "name": "stdout",
          "text": [
            "Epoch 22 - Train Error: 3.6999, Dev Perplexity: 82.6520\n"
          ]
        },
        {
          "output_type": "stream",
          "name": "stderr",
          "text": [
            "Epoch 23: 100%|██████████| 81/81 [00:07<00:00, 10.68it/s, train_error=3.66]\n"
          ]
        },
        {
          "output_type": "stream",
          "name": "stdout",
          "text": [
            "Epoch 23 - Train Error: 3.6592, Dev Perplexity: 82.3141\n"
          ]
        },
        {
          "output_type": "stream",
          "name": "stderr",
          "text": [
            "Epoch 24: 100%|██████████| 81/81 [00:07<00:00, 10.70it/s, train_error=3.62]\n"
          ]
        },
        {
          "output_type": "stream",
          "name": "stdout",
          "text": [
            "Epoch 24 - Train Error: 3.6197, Dev Perplexity: 83.0358\n"
          ]
        },
        {
          "output_type": "stream",
          "name": "stderr",
          "text": [
            "Epoch 25: 100%|██████████| 81/81 [00:07<00:00, 10.70it/s, train_error=3.58]\n"
          ]
        },
        {
          "output_type": "stream",
          "name": "stdout",
          "text": [
            "Epoch 25 - Train Error: 3.5752, Dev Perplexity: 83.5540\n"
          ]
        },
        {
          "output_type": "stream",
          "name": "stderr",
          "text": [
            "Epoch 26: 100%|██████████| 81/81 [00:07<00:00, 10.65it/s, train_error=3.54]\n"
          ]
        },
        {
          "output_type": "stream",
          "name": "stdout",
          "text": [
            "Epoch 26 - Train Error: 3.5364, Dev Perplexity: 84.0300\n",
            "Early stopping at epoch: 26\n"
          ]
        },
        {
          "output_type": "display_data",
          "data": {
            "text/plain": [
              "<Figure size 640x480 with 2 Axes>"
            ],
            "image/png": "[encoded data removed]"
          },
          "metadata": {}
        }
      ],
      "source": [
        "class Model(torch.nn.Module):\n",
        "\n",
        "    def __init__(self, vocab_size, embedding_size, state_size, dropout_rate=0.5):\n",
        "        super().__init__()\n",
        "        self.embedding = torch.nn.Embedding(vocab_size, embedding_size)\n",
        "        self.rnn_cell = torch.nn.LSTMCell(embedding_size, state_size)\n",
        "        self.output_layer = torch.nn.Linear(state_size, vocab_size)\n",
        "        self.dropout = torch.nn.Dropout(dropout_rate)\n",
        "\n",
        "    def forward(self, text_x_indexed):\n",
        "        batch_size = text_x_indexed.shape[0]\n",
        "        time_steps = text_x_indexed.shape[1]\n",
        "\n",
        "        embedded = self.embedding(text_x_indexed)\n",
        "        state = torch.zeros((batch_size, self.rnn_cell.hidden_size), device=text_x_indexed.device)\n",
        "        c = torch.zeros((batch_size, self.rnn_cell.hidden_size), device=text_x_indexed.device)\n",
        "        interm_states_list = []\n",
        "        for t in range(time_steps):\n",
        "            (state, c) = self.rnn_cell(embedded[:, t, :], (state, c))\n",
        "            state = self.dropout(state)\n",
        "            interm_states_list.append(state)\n",
        "        interm_states = torch.stack(interm_states_list, dim=1)\n",
        "        return self.output_layer(interm_states)\n",
        "\n",
        "model = Model(len(vocab), embedding_size=400, state_size=400, dropout_rate=0.5)\n",
        "model.to(device)\n",
        "\n",
        "optimiser = torch.optim.Adam(model.parameters(), lr=0.001)\n",
        "\n",
        "batch_size = 128\n",
        "\n",
        "train_errors = []\n",
        "dev_per = []\n",
        "\n",
        "for epoch in range(1, 150):\n",
        "    total_loss = 0\n",
        "    total_batches = 0\n",
        "    model.train()\n",
        "    row_indexes = np.arange(len(train_indexed)) # training indicies\n",
        "    np.random.shuffle(row_indexes) # shuffle indicies\n",
        "\n",
        "    progress_bar = tqdm(range(0, len(train_indexed), batch_size), desc=f\"Epoch {epoch}\")\n",
        "\n",
        "    for i in progress_bar:\n",
        "        batch_row_indexes = row_indexes[i:i+batch_size] # take a set of indicies of size batch_size\n",
        "        batch_x_indexed = train_indexed[batch_row_indexes] # extract rows from x\n",
        "        batch_y_indexed = train_y_indexed[batch_row_indexes] # extract rows from y\n",
        "\n",
        "        pad_mask = batch_x_indexed == pad_index\n",
        "\n",
        "        optimiser.zero_grad()\n",
        "        logits = model(batch_x_indexed)\n",
        "        batch_token_errors = torch.nn.functional.cross_entropy(logits.transpose(1, 2), batch_y_indexed, reduction='none')\n",
        "        batch_token_errors = batch_token_errors.masked_fill(pad_mask, 0.0)\n",
        "        batch_error = batch_token_errors.sum()/(~pad_mask).sum()\n",
        "        total_loss += batch_error.item()\n",
        "        total_batches += 1\n",
        "        batch_error.backward()\n",
        "        optimiser.step()\n",
        "        progress_bar.set_postfix({'train_error': total_loss / total_batches})\n",
        "\n",
        "\n",
        "    average_loss = total_loss / total_batches\n",
        "    train_errors.append(average_loss)\n",
        "\n",
        "    model.eval()\n",
        "    # Calculate perplexity on dev set\n",
        "    dev_perplexity = calculate_perplexity(model, dev_indexed, dev_y_indexed)\n",
        "    dev_per.append(dev_perplexity)\n",
        "    print(f\"Epoch {epoch} - Train Error: {average_loss:.4f}, Dev Perplexity: {dev_perplexity:.4f}\")\n",
        "    if early_stopping(dev_per, 3):\n",
        "      print(\"Early stopping at epoch: {}\".format(epoch))\n",
        "      break\n",
        "\n",
        "# Plotting\n",
        "fig, ax1 = plt.subplots()\n",
        "\n",
        "# Plot training errors\n",
        "ax1.set_xlabel('epoch')\n",
        "ax1.set_ylabel('Training Error', color='tab:red')\n",
        "ax1.plot(range(1, len(train_errors) + 1), train_errors, color='tab:red', linestyle='-', linewidth=2)\n",
        "ax1.tick_params(axis='y', labelcolor='tab:red')\n",
        "\n",
        "# Instantiate a second axes that shares the same x-axis and plot dev perplexity\n",
        "ax2 = ax1.twinx()\n",
        "ax2.set_ylabel('Dev Set Perplexity', color='tab:blue')\n",
        "ax2.plot(range(1, len(dev_per) + 1), dev_per, color='tab:blue', linestyle='-', linewidth=2)\n",
        "ax2.tick_params(axis='y', labelcolor='tab:blue')\n",
        "\n",
        "fig.tight_layout()\n",
        "plt.show()"
      ]
    },
    {
      "cell_type": "code",
      "source": [
        "print(\"Model saving on the DEV set: {}\".format(calculate_space_saved(dev_txt, model)))"
      ],
      "metadata": {
        "colab": {
          "base_uri": "https://localhost:8080/"
        },
        "id": "nWbjV_4W1bMj",
        "outputId": "06e900df-a3ab-47b8-f4c7-bc52c2b9a3c1"
      },
      "execution_count": null,
      "outputs": [
        {
          "output_type": "stream",
          "name": "stdout",
          "text": [
            "Model saving on the DEV set: 0.037715084207065375\n"
          ]
        }
      ]
    },
    {
      "cell_type": "markdown",
      "metadata": {
        "id": "rYnkZxpAb3zD"
      },
      "source": [
        "4.2) Measure the space saving amount of the trained model on the test text."
      ]
    },
    {
      "cell_type": "code",
      "execution_count": null,
      "metadata": {
        "id": "MdXHgB_Yb3zD",
        "colab": {
          "base_uri": "https://localhost:8080/"
        },
        "outputId": "eb87c0a1-0e5f-4987-e64d-ffbab4f1e46a"
      },
      "outputs": [
        {
          "output_type": "stream",
          "name": "stdout",
          "text": [
            "Space saving amount on the test set = 0.03994122789752419\n"
          ]
        }
      ],
      "source": [
        "print(f\"Space saving amount on the test set = {calculate_space_saved(test_text, model)}\")\n",
        "compressed_test_text = compress_text(test_text, model)\n",
        "decompressed_test_text = decompress_text(test_text, model)\n",
        "assert test_text == decompressed_test_text"
      ]
    },
    {
      "cell_type": "markdown",
      "metadata": {
        "id": "m6VwfBNWb3zD"
      },
      "source": [
        "4.3) Analyse the model's output."
      ]
    },
    {
      "cell_type": "code",
      "execution_count": null,
      "metadata": {
        "id": "jif3nljTb3zD",
        "colab": {
          "base_uri": "https://localhost:8080/"
        },
        "outputId": "a663ee5c-8cb7-4389-b857-8fe36510437f"
      },
      "outputs": [
        {
          "output_type": "stream",
          "name": "stdout",
          "text": [
            "Most Compressed Sentences:\n",
            "Original sentence: 1 7 . 0 % of all households were made up of individuals , and 3 . 8 % had someone living alone who was 6 5 years of age or older ., Compressed sentence: 1 7 . 0 X X all X X X X X X X X 3 X 8 X had X X X X X 6 X X X X or X X, Space Saving: 0.46153846153846156\n",
            "Original sentence: 3 4 . 6 % of all households were made up of individuals , and 1 5 . 7 % had someone living alone who was 6 5 years of age or older ., Compressed sentence: 3 4 . 6 X X all X X X X X X X X X 5 X 7 X had X X X X X 6 X X X X or X X, Space Saving: 0.4545454545454546\n",
            "Original sentence: 1 4 . 0 % of all households were made up of individuals , and 4 . 5 % had someone living alone who was 6 5 years of age or older ., Compressed sentence: 1 4 . 0 X X all X X X X X X X X 4 X X X had X X X X X 6 X X of X or X X, Space Saving: 0.4538461538461539\n",
            "Original sentence: hispanic or latino of any race were 3 . 0 0 % of the population ., Compressed sentence: hispanic X X X any X X 3 X 0 0 X X X X ., Space Saving: 0.3846153846153846\n",
            "Original sentence: rhopobota bicolor is a species of moth of the family tortricidae ., Compressed sentence: rhopobota bicolor is X species X X X X X X X, Space Saving: 0.33333333333333337\n",
            "\n",
            "Least Compressed Sentences:\n",
            "Original sentence: like his brother , janusz iii quickly became known for his love of drink and women ., Compressed sentence: like his brother X janusz iii quickly became known for his love of drink and women ., Space Saving: 0.0\n",
            "Original sentence: on september 2 4 , 2 0 0 6 , tomoaki honma and jun kasai won apache pro-wrestling army 's wew world tag team championship from takashi sasaki and badboy hido ., Compressed sentence: on september 2 4 X X X 0 6 X tomoaki honma and jun kasai won apache pro-wrestling army 's wew world tag team championship from takashi sasaki and badboy hido X, Space Saving: 0.0\n",
            "Original sentence: he organized the first international workshop on operator theory and its applications which has spawned revolutionary cross-discipline research for over forty years ., Compressed sentence: he organized the first international workshop on operator theory and its applications which has spawned revolutionary cross-discipline research for over forty years X, Space Saving: 0.0\n",
            "Original sentence: jesse glover was introduced to chinese kung fu by james lee during a trip before meeting bruce lee in 1 9 5 9 ., Compressed sentence: jesse glover was introduced to chinese kung fu by james lee during a trip before meeting bruce lee in 1 X 5 9 X, Space Saving: 0.0\n",
            "Original sentence: spinoza lived an outwardly simple life as an optical lens grinder , collaborating on microscope and telescope lens designs with constantijn and christiaan huygens ., Compressed sentence: spinoza lived an outwardly simple life as an optical lens grinder , collaborating on microscope and telescope lens designs with constantijn and christiaan huygens X, Space Saving: 0.0\n"
          ]
        }
      ],
      "source": [
        "sentences = test_text.split('\\n')[:-1]\n",
        "compressed_sentences = [compress_text(sentence, model) for sentence in sentences]\n",
        "space_savings = [calculate_space_saved(sentence, model) for sentence in sentences]\n",
        "\n",
        "most_compressed = sorted(zip(sentences, compressed_sentences, space_savings), key=lambda x: x[2], reverse=True)[:5]\n",
        "least_compressed = sorted(zip(sentences, compressed_sentences, space_savings), key=lambda x: x[2])[:5]\n",
        "\n",
        "print(\"Most Compressed Sentences:\")\n",
        "for sentence, compressed, saving in most_compressed:\n",
        "    print(f\"Original sentence: {sentence}, Compressed sentence: {compressed}, Space Saving: {saving}\")\n",
        "print()\n",
        "print(\"Least Compressed Sentences:\")\n",
        "for sentence, compressed, saving in least_compressed:\n",
        "    print(f\"Original sentence: {sentence}, Compressed sentence: {compressed}, Space Saving: {saving}\")\n"
      ]
    },
    {
      "cell_type": "markdown",
      "metadata": {
        "id": "Mb4h4Y4Bb3zD"
      },
      "source": [
        "4.4) Is the reason for whether a sentence is compressible or not due to its similarity to the train set (a sentence that is similar to one in the train set would be easier to predict and thus more tokens will be compressed)?"
      ]
    },
    {
      "cell_type": "code",
      "execution_count": null,
      "metadata": {
        "id": "NJjM0eGTb3zD",
        "colab": {
          "base_uri": "https://localhost:8080/",
          "height": 472
        },
        "outputId": "5ec7a3bc-4e32-4483-cd82-bf585a47b588"
      },
      "outputs": [
        {
          "output_type": "display_data",
          "data": {
            "text/plain": [
              "<Figure size 640x480 with 1 Axes>"
            ],
            "image/png": "[encoded data removed]"
          },
          "metadata": {}
        }
      ],
      "source": [
        "train_trigrams = set()\n",
        "for sentence in train_txt.split('\\n'):\n",
        "  for tri in nltk.trigrams(sentence.split()):\n",
        "    train_trigrams.add(tri)\n",
        "\n",
        "domain_similarity = []\n",
        "space_saving = []\n",
        "\n",
        "for sentence in test_text.split('\\n'):\n",
        "  processed_sentence = '<EDGE>' + ' ' + ' '.join([token if token in vocab else '<UNK>' for token in sentence.split()])\n",
        "  test_tri = list(nltk.trigrams(processed_sentence.split()))\n",
        "  common_tri = sum(1 for tri in test_tri if tri in train_trigrams)\n",
        "  domain_sim = common_tri / len(test_tri) if test_tri else 0\n",
        "  saving = calculate_space_saved(processed_sentence, model)\n",
        "\n",
        "  domain_similarity.append(domain_sim)\n",
        "  space_saving.append(saving)\n",
        "\n",
        "plt.scatter(domain_similarity, space_saving)\n",
        "plt.xlabel('Domain Similarity')\n",
        "plt.ylabel('Space Saving')\n",
        "plt.title('Domain Similarity vs Space Saving')\n",
        "plt.show()\n"
      ]
    },
    {
      "cell_type": "markdown",
      "source": [
        "Domain similarity alone isn't enough to explain how well text can be compressed because of a few reasons. First, even if a sentence looks similar to what the model learned from the training set, it might not predict the next words correctly. Second, sentences can have similar trigrams but be different in overall meaning or structure, which affects how predictable they are and so how compressable. Also, the language model might be better at understanding some aspects of language than others. In addition, if there are words the model hasn't seen before (unknown tokens), it can't compress them well, no matter how similar the sentence is to the training set."
      ],
      "metadata": {
        "id": "40Hqulr2L2x_"
      }
    },
    {
      "cell_type": "markdown",
      "metadata": {
        "id": "tX9cKq9pb3zD"
      },
      "source": [
        "## 5) Conclusions"
      ]
    },
    {
      "cell_type": "markdown",
      "source": [
        "The current text compression algorithm only replaces a word with 'X' when it exactly matches the predicted token. To enhance compression, we can relax this criterion by replacing words with 'X' in two additional scenarios: when the predicted token has a high probability (above a set threshold), or when the predicted token is semantically similar to the word. Semantic similarity can be determined using word embeddings, language models, or other measures that assess the meaning and context of words."
      ],
      "metadata": {
        "id": "BKSJiqG3-YkS"
      }
    },
    {
      "cell_type": "code",
      "source": [],
      "metadata": {
        "id": "sr28W2EH-aKg"
      },
      "execution_count": null,
      "outputs": []
    }
  ],
  "metadata": {
    "interpreter": {
      "hash": "75ee2b71ad44bf9ef4e9bee896f68ffbc764a6a2c6d1f57c86c48f99ffc25ca8"
    },
    "kernelspec": {
      "display_name": "Python 3",
      "name": "python3"
    },
    "language_info": {
      "codemirror_mode": {
        "name": "ipython",
        "version": 3
      },
      "file_extension": ".py",
      "mimetype": "text/x-python",
      "name": "python",
      "nbconvert_exporter": "python",
      "pygments_lexer": "ipython3",
      "version": "3.9.17"
    },
    "colab": {
      "provenance": [],
      "gpuType": "T4"
    },
    "accelerator": "GPU"
  },
  "nbformat": 4,
  "nbformat_minor": 0
}